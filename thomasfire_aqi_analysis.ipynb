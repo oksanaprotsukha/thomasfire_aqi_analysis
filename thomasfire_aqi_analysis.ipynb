{
 "cells": [
  {
   "cell_type": "markdown",
   "id": "2dd1f531-8bac-4966-97f2-3bef52b5eb92",
   "metadata": {},
   "source": [
    "# Impact of Thomas Fire (2017) on air quality in Santa Barbara, CA\n",
    "\n",
    "Author: Oksana Protsukha\n",
    "\n",
    "Github repository: https://github.com/oksanaprotsukha/thomasfire_aqi_analysis\n"
   ]
  },
  {
   "cell_type": "markdown",
   "id": "ea66e4d6-2954-4dac-8a93-87541aba91cb",
   "metadata": {},
   "source": [
    "### Table of Contents\n",
    "\n",
    "- [Overview](#section-1-overview)\n",
    "- [Data](#section-2-data)\n",
    "- [Final Output](#section-3-final_output)\n",
    "- [Import Libraries](#section-4-import_libraries)\n",
    "- [Import Data](#section-5-import_data)\n",
    "    - [Import AQI data](#section-5.1-import_aqi)\n",
    "    - [Import lansat raster data](#section-5.2-import_lsat)\n",
    "    - [Import California fire perimeter shape file](#section-5.3-import_shape)\n",
    "- [Prepare AQI Data](#section-6-prep_aqi)\n",
    "- [Visualize AQI output](#section-7-plot_aqi)\n",
    "- [Prepare geospatial data](#section-8-prep_geodata)\n",
    "- [Create a map](#section-9-map)"
   ]
  },
  {
   "cell_type": "markdown",
   "id": "f6993976-2414-4944-be49-d5b2523b2a4c",
   "metadata": {},
   "source": [
    "## Overview <a id=\"section-1-overview\"></a>\n",
    "In this notebook, we are going to analyze the impact of [Thomas Fire](https://en.wikipedia.org/wiki/Thomas_Fire)  on the air quality in Santa Barbara in 2017. To do so, we will complete the following two tasks:\n",
    "1. Visualize the Air Quality Index (AQI) in Santa Barbara for 2017 and 2018.\n",
    "2. Create a map to visualize the Thomas Fire scar.\n",
    "\n",
    "### Purpose <a id=\"section-1.1-purpose\"></a>\n",
    "The primary purpose of the notebook is to demonstrate data analysis methods using both vector and raster data.\n",
    "\n",
    "### Tools <a id=\"section-1.2-tools\"></a>\n",
    "- Python libraries\n",
    "    - `numpy`\n",
    "    - `pandas`\n",
    "    - `pyplot` and `patches` from `matplotlib`\n",
    "    - `rioxarray`\n",
    "    - `geopandas`\n",
    "    - `xarray`\n",
    "- Jupyter Notebook\n",
    "- GitHub\n",
    "\n",
    "### Highlights <a id=\"section-1.3-highlights\"></a>\n",
    "- Data wrangling and exploration with `Pandas`\n",
    "- Geospatial data wrangling with `GeoPandas` and `Rioxarray`\n",
    "- Time series analysis\n",
    "- Merging tabular and vector data\n",
    "- Visualizing analysis results with a line plot\n",
    "- Creating and customizing a map with raster and vector data\n",
    "\n",
    "### About the data <a id=\"section-2-data\"></a>\n",
    "\n",
    "#### DataSet 1\n",
    "[Air Quality Index (AQI)](https://www.airnow.gov/aqi/aqi-basics/) data from the [US Environmental Protection Agency](https://www.epa.gov) to visualize the impact on the AQI of the 2017 [Thomas Fire](https://en.wikipedia.org/wiki/Thomas_Fire) in Santa Barbara County. \n",
    "\n",
    "#### DataSet 2\n",
    "A simplified collection of bands (red, green, blue, near-infrared and shortwave infrared) from the Landsat Collection 2 Level-2 atmosperically corrected surface reflectance data, collected by the Landsat 8 satellite. \n",
    "\n",
    "Information about Landsat bands from USGS:\n",
    "\n",
    "-[What are the band designations for the Landsat satellites?](https://www.usgs.gov/faqs/what-are-band-designations-landsat-satellites)\n",
    "\n",
    "-[Common Landsat Band Combinations](https://www.usgs.gov/media/images/common-landsat-band-combinations)\n",
    "\n",
    "-[How do I use a scale factor with Landsat Level-2 science products?](https://www.usgs.gov/faqs/how-do-i-use-a-scale-factor-landsat-level-2-science-products)\n",
    "\n",
    "The data was accessed and pre-processed in the Microsoft Planetary Computer to remove data outside land and coarsen the spatial resolution ([Landsat Collection in MPC](https://planetarycomputer.microsoft.com/dataset/landsat-c2-l2)). Data should be used for visualization purposes only. \n",
    "\n",
    "#### DataSet 3\n",
    "A prepared shapefile of fire perimeters in California during 2017. \n",
    "The [complete file can be accessed in the CA state geoportal](https://gis.data.ca.gov/datasets/CALFIRE-Forestry::california-fire-perimeters-all-1/about).\n",
    "\n",
    "**Note**: Data for datasets 2 and 3 can is available in [googledrive](url). "
   ]
  },
  {
   "cell_type": "markdown",
   "id": "f504bd86-dd44-4d13-bd6d-b70e9f63e517",
   "metadata": {},
   "source": [
    "## Final Output <a id=\"section-3-final_output\"></a>\n",
    "The final outputs of the analysis include:\n",
    "\n",
    "- A **Line Plot** depicting the time series analysis of the Air Quality Index (AQI) in Santa Barbara for 2017 and 2018.</br>\n",
    "<img src=\"assets/thomas_fire_aqi.png\" width=\"800\" />\n",
    "\n",
    "- A **Map** with an overlay of the Thomas Fire scar on the Santa Barbara land cover.</br>\n",
    "<img src=\"assets/thomas_fire_scar.png\" width=\"800\" />"
   ]
  },
  {
   "cell_type": "markdown",
   "id": "453f8f30-ed4b-4a78-a0b5-f4f7bd6bc4dc",
   "metadata": {},
   "source": [
    "## Import Libraries <a id=\"section-4-import_libraries\"></a>"
   ]
  },
  {
   "cell_type": "code",
   "execution_count": 1,
   "id": "1e245057-aeee-4f08-8240-a3a766d3827e",
   "metadata": {
    "tags": []
   },
   "outputs": [],
   "source": [
    "# import libraries with standard abbreviations\n",
    "import os\n",
    "import pandas as pd\n",
    "import numpy as np\n",
    "import matplotlib.pyplot as plt\n",
    "import matplotlib.patches as mpatches # for creating legends\n",
    "\n",
    "import rioxarray as rioxr\n",
    "import geopandas as gpd\n",
    "import xarray as xr"
   ]
  },
  {
   "cell_type": "markdown",
   "id": "235744cd-ab57-4b79-9468-dc41eb951f4e",
   "metadata": {},
   "source": [
    "## Import Data <a id=\"section-5-import_data\"></a>\n",
    "\n",
    "#### Import Air quality data <a id=\"section-5.1-import_aqi\"></a>"
   ]
  },
  {
   "cell_type": "code",
   "execution_count": 2,
   "id": "1a3c0a28-9ff2-4510-831d-4a3ae609b9a5",
   "metadata": {
    "tags": []
   },
   "outputs": [],
   "source": [
    "# import Daily AQI by County data from url: Dataset 1\n",
    "# read in 2017 Daily AQI by County\n",
    "url_aqi_17 = 'https://aqs.epa.gov/aqsweb/airdata/daily_aqi_by_county_2017.zip'\n",
    "aqi_17 = pd.read_csv(url_aqi_17)\n",
    "\n",
    "# read in 2018 Daily AQI by County\n",
    "url_aqi_18 = 'https://aqs.epa.gov/aqsweb/airdata/daily_aqi_by_county_2018.zip'\n",
    "aqi_18 = pd.read_csv(url_aqi_18)"
   ]
  },
  {
   "cell_type": "markdown",
   "id": "5c30a433-2c33-40ce-977f-8848b0e3e2a1",
   "metadata": {},
   "source": [
    "#### Import Landsat geospatial data (netCDF) <a id=\"section-5.2-import_lsat\"></a>"
   ]
  },
  {
   "cell_type": "code",
   "execution_count": 3,
   "id": "da0d80b1-b3df-4d69-85d6-2295c796d6fb",
   "metadata": {
    "tags": []
   },
   "outputs": [],
   "source": [
    "# use rioxarray library to import netCDF file with geospatial features\n",
    "fp_lsat = 'data/landsat8-2018-01-26-sb-simplified.nc'\n",
    "lsat = rioxr.open_rasterio(fp_lsat)"
   ]
  },
  {
   "cell_type": "markdown",
   "id": "2ef3ebb1-ccf6-47be-b7c1-a3b3202f1958",
   "metadata": {},
   "source": [
    "#### Import California fire perimeter shape file <a id=\"section-5.2-import_shape\"></a>"
   ]
  },
  {
   "cell_type": "code",
   "execution_count": 4,
   "id": "d3783645-5276-456b-8cf7-a70516f336fb",
   "metadata": {
    "tags": []
   },
   "outputs": [],
   "source": [
    "# use geopandas to import shape file with California fire perimeters \n",
    "calfire = gpd.read_file(os.path.join(os.getcwd(), 'data', \n",
    "                                     'California_Fire_Perimeters_2017',\n",
    "                                     'California_Fire_Perimeters_2017.shp'))  "
   ]
  },
  {
   "cell_type": "markdown",
   "id": "fae3c803-6ccf-4972-ac41-4f85a6835d5f",
   "metadata": {},
   "source": [
    "## Prepare Air quality data <a id=\"section-6-prep_aqi\"></a>"
   ]
  },
  {
   "cell_type": "markdown",
   "id": "8d78ef15-6814-4640-b57d-e0326f387605",
   "metadata": {},
   "source": [
    "Let's take a quick look at the data before we proceed with data wrangling steps. "
   ]
  },
  {
   "cell_type": "code",
   "execution_count": 5,
   "id": "bf24c4f0-250b-4c1b-b2ac-366cdc5f6413",
   "metadata": {
    "tags": []
   },
   "outputs": [
    {
     "name": "stdout",
     "output_type": "stream",
     "text": [
      "Index(['State Name', 'county Name', 'State Code', 'County Code', 'Date', 'AQI',\n",
      "       'Category', 'Defining Parameter', 'Defining Site',\n",
      "       'Number of Sites Reporting'],\n",
      "      dtype='object')\n"
     ]
    },
    {
     "data": {
      "text/html": [
       "<div>\n",
       "<style scoped>\n",
       "    .dataframe tbody tr th:only-of-type {\n",
       "        vertical-align: middle;\n",
       "    }\n",
       "\n",
       "    .dataframe tbody tr th {\n",
       "        vertical-align: top;\n",
       "    }\n",
       "\n",
       "    .dataframe thead th {\n",
       "        text-align: right;\n",
       "    }\n",
       "</style>\n",
       "<table border=\"1\" class=\"dataframe\">\n",
       "  <thead>\n",
       "    <tr style=\"text-align: right;\">\n",
       "      <th></th>\n",
       "      <th>State Name</th>\n",
       "      <th>county Name</th>\n",
       "      <th>State Code</th>\n",
       "      <th>County Code</th>\n",
       "      <th>Date</th>\n",
       "      <th>AQI</th>\n",
       "      <th>Category</th>\n",
       "      <th>Defining Parameter</th>\n",
       "      <th>Defining Site</th>\n",
       "      <th>Number of Sites Reporting</th>\n",
       "    </tr>\n",
       "  </thead>\n",
       "  <tbody>\n",
       "    <tr>\n",
       "      <th>0</th>\n",
       "      <td>Alabama</td>\n",
       "      <td>Baldwin</td>\n",
       "      <td>1</td>\n",
       "      <td>3</td>\n",
       "      <td>2017-01-01</td>\n",
       "      <td>21</td>\n",
       "      <td>Good</td>\n",
       "      <td>PM2.5</td>\n",
       "      <td>01-003-0010</td>\n",
       "      <td>1</td>\n",
       "    </tr>\n",
       "    <tr>\n",
       "      <th>1</th>\n",
       "      <td>Alabama</td>\n",
       "      <td>Baldwin</td>\n",
       "      <td>1</td>\n",
       "      <td>3</td>\n",
       "      <td>2017-01-04</td>\n",
       "      <td>22</td>\n",
       "      <td>Good</td>\n",
       "      <td>PM2.5</td>\n",
       "      <td>01-003-0010</td>\n",
       "      <td>1</td>\n",
       "    </tr>\n",
       "  </tbody>\n",
       "</table>\n",
       "</div>"
      ],
      "text/plain": [
       "  State Name county Name  State Code  County Code        Date  AQI Category  \\\n",
       "0    Alabama     Baldwin           1            3  2017-01-01   21     Good   \n",
       "1    Alabama     Baldwin           1            3  2017-01-04   22     Good   \n",
       "\n",
       "  Defining Parameter Defining Site  Number of Sites Reporting  \n",
       "0              PM2.5   01-003-0010                          1  \n",
       "1              PM2.5   01-003-0010                          1  "
      ]
     },
     "execution_count": 5,
     "metadata": {},
     "output_type": "execute_result"
    }
   ],
   "source": [
    "# view the list of columns \n",
    "print(aqi_17.columns)\n",
    "\n",
    "# view the first 2 rows of the dataframe aqi_17\n",
    "aqi_17.head(2)"
   ]
  },
  {
   "cell_type": "code",
   "execution_count": 6,
   "id": "18b5e752-36c3-4816-8dfa-017e7a44552e",
   "metadata": {
    "tags": []
   },
   "outputs": [
    {
     "name": "stdout",
     "output_type": "stream",
     "text": [
      "Index(['State Name', 'county Name', 'State Code', 'County Code', 'Date', 'AQI',\n",
      "       'Category', 'Defining Parameter', 'Defining Site',\n",
      "       'Number of Sites Reporting'],\n",
      "      dtype='object')\n"
     ]
    },
    {
     "data": {
      "text/html": [
       "<div>\n",
       "<style scoped>\n",
       "    .dataframe tbody tr th:only-of-type {\n",
       "        vertical-align: middle;\n",
       "    }\n",
       "\n",
       "    .dataframe tbody tr th {\n",
       "        vertical-align: top;\n",
       "    }\n",
       "\n",
       "    .dataframe thead th {\n",
       "        text-align: right;\n",
       "    }\n",
       "</style>\n",
       "<table border=\"1\" class=\"dataframe\">\n",
       "  <thead>\n",
       "    <tr style=\"text-align: right;\">\n",
       "      <th></th>\n",
       "      <th>State Name</th>\n",
       "      <th>county Name</th>\n",
       "      <th>State Code</th>\n",
       "      <th>County Code</th>\n",
       "      <th>Date</th>\n",
       "      <th>AQI</th>\n",
       "      <th>Category</th>\n",
       "      <th>Defining Parameter</th>\n",
       "      <th>Defining Site</th>\n",
       "      <th>Number of Sites Reporting</th>\n",
       "    </tr>\n",
       "  </thead>\n",
       "  <tbody>\n",
       "    <tr>\n",
       "      <th>0</th>\n",
       "      <td>Alabama</td>\n",
       "      <td>Baldwin</td>\n",
       "      <td>1</td>\n",
       "      <td>3</td>\n",
       "      <td>2018-01-02</td>\n",
       "      <td>32</td>\n",
       "      <td>Good</td>\n",
       "      <td>PM2.5</td>\n",
       "      <td>01-003-0010</td>\n",
       "      <td>1</td>\n",
       "    </tr>\n",
       "    <tr>\n",
       "      <th>1</th>\n",
       "      <td>Alabama</td>\n",
       "      <td>Baldwin</td>\n",
       "      <td>1</td>\n",
       "      <td>3</td>\n",
       "      <td>2018-01-05</td>\n",
       "      <td>34</td>\n",
       "      <td>Good</td>\n",
       "      <td>PM2.5</td>\n",
       "      <td>01-003-0010</td>\n",
       "      <td>1</td>\n",
       "    </tr>\n",
       "  </tbody>\n",
       "</table>\n",
       "</div>"
      ],
      "text/plain": [
       "  State Name county Name  State Code  County Code        Date  AQI Category  \\\n",
       "0    Alabama     Baldwin           1            3  2018-01-02   32     Good   \n",
       "1    Alabama     Baldwin           1            3  2018-01-05   34     Good   \n",
       "\n",
       "  Defining Parameter Defining Site  Number of Sites Reporting  \n",
       "0              PM2.5   01-003-0010                          1  \n",
       "1              PM2.5   01-003-0010                          1  "
      ]
     },
     "execution_count": 6,
     "metadata": {},
     "output_type": "execute_result"
    }
   ],
   "source": [
    "# view the list of columns \n",
    "print(aqi_18.columns)\n",
    "\n",
    "# view the first 2 rows of the dataframe aqi_18\n",
    "aqi_18.head(2)"
   ]
  },
  {
   "cell_type": "markdown",
   "id": "e06811da-3638-40fb-8c65-ca30d661f204",
   "metadata": {},
   "source": [
    "Notice that we currently have two separate dataframes. However, in order to analyze AQI for the two years, we need to combine them by appending the rows from one dataframe on top of the other. \n",
    "We will use the pandas function `pd.concat()` to do so. \n",
    "\n",
    "**Important**: the columns of the two datasets have to match."
   ]
  },
  {
   "cell_type": "code",
   "execution_count": 22,
   "id": "5602b8b0-1399-4377-8c43-05b5de909799",
   "metadata": {
    "tags": []
   },
   "outputs": [
    {
     "name": "stdout",
     "output_type": "stream",
     "text": [
      "Do columns match?\n",
      " [ True  True  True  True  True  True  True  True  True  True] \n",
      "\n",
      "Do datatypes of the columns match?\n",
      "State Name                   True\n",
      "county Name                  True\n",
      "State Code                   True\n",
      "County Code                  True\n",
      "Date                         True\n",
      "AQI                          True\n",
      "Category                     True\n",
      "Defining Parameter           True\n",
      "Defining Site                True\n",
      "Number of Sites Reporting    True\n",
      "dtype: bool\n"
     ]
    }
   ],
   "source": [
    "# check whether the columns between the two datasets match\n",
    "print(f'Do columns match?\\n {aqi_18.columns == aqi_17.columns} \\n')\n",
    "\n",
    "# check whether the column datatypes between the two datasets match\n",
    "print(f'Do datatypes of the columns match?\\n{aqi_18.dtypes == aqi_17.dtypes}')"
   ]
  },
  {
   "cell_type": "markdown",
   "id": "0fb31163-d700-44af-9335-1c189bcbbe53",
   "metadata": {},
   "source": [
    "**Note**: since the column names and datatypes of the two datasets match exaclty we can combine the them into a single dataframe.\n",
    "Let's check how many records we should expect in the combined dataframe."
   ]
  },
  {
   "cell_type": "code",
   "execution_count": 8,
   "id": "b0920a63-feab-4840-88f4-f14e0888db71",
   "metadata": {
    "tags": []
   },
   "outputs": [
    {
     "name": "stdout",
     "output_type": "stream",
     "text": [
      "Combined dataframe should have total number of rows: 654338\n"
     ]
    }
   ],
   "source": [
    "# get the count of rows that have state = CA and county = Santa Barbara in the dataframe aqi_17\n",
    "aqi_17_count = len(aqi_17)\n",
    "\n",
    "# get the count of rows that have state = CA and county = Santa Barbara in the dataframe aqi_18\n",
    "aqi_18_count = len(aqi_18)\n",
    "\n",
    "# get the total count of rows we expect in the combined dataframe\n",
    "tot_count = aqi_17_count + aqi_18_count\n",
    "print(f'Combined dataframe should have total number of rows: {tot_count}')  "
   ]
  },
  {
   "cell_type": "code",
   "execution_count": 9,
   "id": "0bb4606b-42d6-4ce2-a278-bda51edcb907",
   "metadata": {
    "tags": []
   },
   "outputs": [
    {
     "name": "stdout",
     "output_type": "stream",
     "text": [
      "Count of rows in the combined aqi dataframe: 654338\n",
      "Is total number of rows in the combined dataframe as expected? True \n",
      "\n"
     ]
    },
    {
     "data": {
      "text/html": [
       "<div>\n",
       "<style scoped>\n",
       "    .dataframe tbody tr th:only-of-type {\n",
       "        vertical-align: middle;\n",
       "    }\n",
       "\n",
       "    .dataframe tbody tr th {\n",
       "        vertical-align: top;\n",
       "    }\n",
       "\n",
       "    .dataframe thead th {\n",
       "        text-align: right;\n",
       "    }\n",
       "</style>\n",
       "<table border=\"1\" class=\"dataframe\">\n",
       "  <thead>\n",
       "    <tr style=\"text-align: right;\">\n",
       "      <th></th>\n",
       "      <th>State Name</th>\n",
       "      <th>county Name</th>\n",
       "      <th>State Code</th>\n",
       "      <th>County Code</th>\n",
       "      <th>Date</th>\n",
       "      <th>AQI</th>\n",
       "      <th>Category</th>\n",
       "      <th>Defining Parameter</th>\n",
       "      <th>Defining Site</th>\n",
       "      <th>Number of Sites Reporting</th>\n",
       "    </tr>\n",
       "  </thead>\n",
       "  <tbody>\n",
       "    <tr>\n",
       "      <th>0</th>\n",
       "      <td>Alabama</td>\n",
       "      <td>Baldwin</td>\n",
       "      <td>1</td>\n",
       "      <td>3</td>\n",
       "      <td>2017-01-01</td>\n",
       "      <td>21</td>\n",
       "      <td>Good</td>\n",
       "      <td>PM2.5</td>\n",
       "      <td>01-003-0010</td>\n",
       "      <td>1</td>\n",
       "    </tr>\n",
       "    <tr>\n",
       "      <th>1</th>\n",
       "      <td>Alabama</td>\n",
       "      <td>Baldwin</td>\n",
       "      <td>1</td>\n",
       "      <td>3</td>\n",
       "      <td>2017-01-04</td>\n",
       "      <td>22</td>\n",
       "      <td>Good</td>\n",
       "      <td>PM2.5</td>\n",
       "      <td>01-003-0010</td>\n",
       "      <td>1</td>\n",
       "    </tr>\n",
       "  </tbody>\n",
       "</table>\n",
       "</div>"
      ],
      "text/plain": [
       "  State Name county Name  State Code  County Code        Date  AQI Category  \\\n",
       "0    Alabama     Baldwin           1            3  2017-01-01   21     Good   \n",
       "1    Alabama     Baldwin           1            3  2017-01-04   22     Good   \n",
       "\n",
       "  Defining Parameter Defining Site  Number of Sites Reporting  \n",
       "0              PM2.5   01-003-0010                          1  \n",
       "1              PM2.5   01-003-0010                          1  "
      ]
     },
     "execution_count": 9,
     "metadata": {},
     "output_type": "execute_result"
    }
   ],
   "source": [
    "# combine two datasets aqi_17 and aqi_18 in a single one\n",
    "aqi = pd.concat([aqi_17, aqi_18])\n",
    "\n",
    "# check the total count of rows matches the expected number\n",
    "aqi_count = len(aqi)\n",
    "print(f'Count of rows in the combined aqi dataframe: {aqi_count}')\n",
    "print(f'Is total number of rows in the combined dataframe as expected? {aqi_count == tot_count} \\n')\n",
    "\n",
    "# check the first 2 rows of the combined dataframe\n",
    "aqi.head(2)"
   ]
  },
  {
   "cell_type": "markdown",
   "id": "884eede5-9547-4faa-8d35-55afb8c4ab0c",
   "metadata": {},
   "source": [
    "Notice that column names have inconsistent case and spaces in between the words. \n",
    "Let's update the column names to `snake_case` 🐍 to simplify data manipulation."
   ]
  },
  {
   "cell_type": "code",
   "execution_count": 10,
   "id": "7bf20a47-e341-4b1b-8dcb-bccbe04d63f9",
   "metadata": {
    "tags": []
   },
   "outputs": [
    {
     "name": "stdout",
     "output_type": "stream",
     "text": [
      "Index(['state_name', 'county_name', 'state_code', 'county_code', 'date', 'aqi',\n",
      "       'category', 'defining_parameter', 'defining_site',\n",
      "       'number_of_sites_reporting'],\n",
      "      dtype='object')\n"
     ]
    }
   ],
   "source": [
    "# update the column names case to snake_case\n",
    "aqi.columns = aqi.columns.str.lower().str.replace(' ','_')\n",
    "print(aqi.columns)"
   ]
  },
  {
   "cell_type": "markdown",
   "id": "e1d5208a-4abb-40c6-8770-726e07ee04c4",
   "metadata": {},
   "source": [
    "\n",
    "For our analysis we only AQI data from the Santa Barbara county. \n",
    "Let's create a new dataframe` aqi_sb ` filtered to Santa Barbara county. Additionally, we can remove unecessary columns state_name, county_name, state_code and county_code from the new dataframe. "
   ]
  },
  {
   "cell_type": "code",
   "execution_count": 11,
   "id": "3120eedf-3e50-40f0-bd6a-5ec125cc1cd2",
   "metadata": {
    "tags": []
   },
   "outputs": [],
   "source": [
    "# select the records where county_name = 'Santa Barbara' from the combined dataset aqi\n",
    "aqi_sb = aqi.loc[aqi.county_name == 'Santa Barbara'].copy()\n",
    "\n",
    "# remove the state_name, county_name, state_code and county_code columns from aqi_sb\n",
    "aqi_sb = aqi_sb.drop(columns = ['state_name', 'county_name', 'state_code', 'county_code'])"
   ]
  },
  {
   "cell_type": "code",
   "execution_count": 12,
   "id": "c1db71cd-871b-499c-bbe4-d2204288da3e",
   "metadata": {},
   "outputs": [
    {
     "name": "stdout",
     "output_type": "stream",
     "text": [
      "date                         object\n",
      "aqi                           int64\n",
      "category                     object\n",
      "defining_parameter           object\n",
      "defining_site                object\n",
      "number_of_sites_reporting     int64\n",
      "dtype: object\n"
     ]
    }
   ],
   "source": [
    "# check the data types of the columns\n",
    "print(aqi_sb.dtypes)"
   ]
  },
  {
   "cell_type": "markdown",
   "id": "609b5f20-e3dd-413a-9998-afd033fbe57a",
   "metadata": {},
   "source": [
    "⚠️ Date column has type object rather than `datetime` as expected. \n",
    "\n",
    "We will perform the following changes to make it easier working with dates:\n",
    "- Update the date column of aqi_sb to be a datetime object.\n",
    "- Update the index of aqi_sb to be the date column."
   ]
  },
  {
   "cell_type": "code",
   "execution_count": 13,
   "id": "1aceea09-0d07-4e82-8bfa-50a83108c4dc",
   "metadata": {
    "tags": []
   },
   "outputs": [
    {
     "name": "stdout",
     "output_type": "stream",
     "text": [
      "DatetimeIndex(['2017-01-01', '2017-01-02', '2017-01-03', '2017-01-04',\n",
      "               '2017-01-05', '2017-01-06', '2017-01-07', '2017-01-08',\n",
      "               '2017-01-09', '2017-01-10',\n",
      "               ...\n",
      "               '2018-12-22', '2018-12-23', '2018-12-24', '2018-12-25',\n",
      "               '2018-12-26', '2018-12-27', '2018-12-28', '2018-12-29',\n",
      "               '2018-12-30', '2018-12-31'],\n",
      "              dtype='datetime64[ns]', name='date', length=730, freq=None)\n"
     ]
    }
   ],
   "source": [
    "# update date column values of aqi_sb to datetype object\n",
    "aqi_sb.date = pd.to_datetime(aqi_sb.date)\n",
    "      \n",
    "# update the index of aqi_sb to be the date column\n",
    "aqi_sb = aqi_sb.set_index('date')\n",
    "\n",
    "# check column date is updated\n",
    "print(aqi_sb.index)"
   ]
  },
  {
   "cell_type": "markdown",
   "id": "be635af5-b6a6-4243-bc3d-4c578d85ad50",
   "metadata": {},
   "source": [
    "Our current dataframe contains daily values of AQI. We can use a 5-day rolling average to smooth our data and improve the quality of the analysis. We can create a new variable, five_day_average, with the mean of the AQI over a 5-day rolling window. To do this we will use the [pandas method](https://pandas.pydata.org/pandas-docs/stable/reference/api/pandas.Series.rolling.html) `rolling`.\n",
    "\n",
    "**Note**: \n",
    "`rolling()` is a method for `pandas.series` that provides rolling window calculations. This is a lazy method (think groupby), we need to specify what we want to calculate over each window. It returns `pd.Series` as ouput."
   ]
  },
  {
   "cell_type": "code",
   "execution_count": 14,
   "id": "3d9035e0-367f-4ed6-923a-0a4c880524c8",
   "metadata": {
    "tags": []
   },
   "outputs": [
    {
     "data": {
      "text/html": [
       "<div>\n",
       "<style scoped>\n",
       "    .dataframe tbody tr th:only-of-type {\n",
       "        vertical-align: middle;\n",
       "    }\n",
       "\n",
       "    .dataframe tbody tr th {\n",
       "        vertical-align: top;\n",
       "    }\n",
       "\n",
       "    .dataframe thead th {\n",
       "        text-align: right;\n",
       "    }\n",
       "</style>\n",
       "<table border=\"1\" class=\"dataframe\">\n",
       "  <thead>\n",
       "    <tr style=\"text-align: right;\">\n",
       "      <th></th>\n",
       "      <th>aqi</th>\n",
       "      <th>category</th>\n",
       "      <th>defining_parameter</th>\n",
       "      <th>defining_site</th>\n",
       "      <th>number_of_sites_reporting</th>\n",
       "      <th>five_day_average</th>\n",
       "    </tr>\n",
       "    <tr>\n",
       "      <th>date</th>\n",
       "      <th></th>\n",
       "      <th></th>\n",
       "      <th></th>\n",
       "      <th></th>\n",
       "      <th></th>\n",
       "      <th></th>\n",
       "    </tr>\n",
       "  </thead>\n",
       "  <tbody>\n",
       "    <tr>\n",
       "      <th>2017-01-01</th>\n",
       "      <td>39</td>\n",
       "      <td>Good</td>\n",
       "      <td>Ozone</td>\n",
       "      <td>06-083-4003</td>\n",
       "      <td>12</td>\n",
       "      <td>39.0</td>\n",
       "    </tr>\n",
       "    <tr>\n",
       "      <th>2017-01-02</th>\n",
       "      <td>36</td>\n",
       "      <td>Good</td>\n",
       "      <td>Ozone</td>\n",
       "      <td>06-083-4003</td>\n",
       "      <td>11</td>\n",
       "      <td>37.5</td>\n",
       "    </tr>\n",
       "  </tbody>\n",
       "</table>\n",
       "</div>"
      ],
      "text/plain": [
       "            aqi category defining_parameter defining_site  \\\n",
       "date                                                        \n",
       "2017-01-01   39     Good              Ozone   06-083-4003   \n",
       "2017-01-02   36     Good              Ozone   06-083-4003   \n",
       "\n",
       "            number_of_sites_reporting  five_day_average  \n",
       "date                                                     \n",
       "2017-01-01                         12              39.0  \n",
       "2017-01-02                         11              37.5  "
      ]
     },
     "execution_count": 14,
     "metadata": {},
     "output_type": "execute_result"
    }
   ],
   "source": [
    "# calculate 5-day rolling average AQI\n",
    "# the parameter '5D' indicates we want the window to be 5 days\n",
    "aqi_sb['five_day_average'] = aqi_sb.aqi.rolling('5D').mean() \n",
    "\n",
    "aqi_sb.head(2)"
   ]
  },
  {
   "cell_type": "markdown",
   "id": "01d1aca3-18ec-4753-b433-e49d3c5c1d51",
   "metadata": {},
   "source": [
    "## Visualize AQI output <a id=\"section-7-plot_aqi\"></a>\n",
    "We will create a line plot with daily AQI and 5-day average AQI to visualize an impact of Thomas Fire (December, 2017) on the air quality in Santa Barbara County."
   ]
  },
  {
   "cell_type": "code",
   "execution_count": 15,
   "id": "6ea9d116-384f-43ec-8d7b-7dd3e81dee57",
   "metadata": {
    "tags": []
   },
   "outputs": [
    {
     "data": {
      "text/plain": [
       "<function matplotlib.pyplot.show(close=None, block=None)>"
      ]
     },
     "execution_count": 15,
     "metadata": {},
     "output_type": "execute_result"
    },
    {
     "data": {
      "image/png": "[encoded data removed]",
      "text/plain": [
       "<Figure size 640x480 with 1 Axes>"
      ]
     },
     "metadata": {},
     "output_type": "display_data"
    }
   ],
   "source": [
    "# plot both the daily AQI and the 5-day average\n",
    "fig, ax = plt.subplots()\n",
    "\n",
    "aqi_sb.aqi.plot(ax=ax,\n",
    "                color = '#fecc5c')\n",
    "aqi_sb.five_day_average.plot(ax=ax,\n",
    "                color = '#a50f15')\n",
    "\n",
    "# update axis\n",
    "ax.set_title('Daily Average vs 5 day Average AQI in Santa Barbara (2017-2018)')\n",
    "ax.set_xlabel('Period')\n",
    "ax.set_ylabel('AQI')\n",
    "ax.legend(['AQI Daily Average', 'AQI 5-day Average'])\n",
    "\n",
    "plt.show"
   ]
  },
  {
   "cell_type": "markdown",
   "id": "f563ba6f-0e8b-4f90-a4fa-69a878ec16d2",
   "metadata": {},
   "source": [
    "We can clearly see that in December 2017, both the daily average and 5-day rolling average increased significantly compared to the rest of the year. This is the period when the Thomas Fire occurred."
   ]
  },
  {
   "cell_type": "markdown",
   "id": "fb9f2112-5e27-4b22-8e26-0ff98c87576e",
   "metadata": {},
   "source": [
    "## Prepare geospatial data <a id=\"section-8-prep_geodata\"></a>\n",
    "\n",
    "First, let's inspect geospatial datasets."
   ]
  },
  {
   "cell_type": "code",
   "execution_count": 16,
   "id": "98f2487b-122d-4dc8-8bd1-0125c745d171",
   "metadata": {
    "tags": []
   },
   "outputs": [
    {
     "data": {
      "text/html": [
       "<div>\n",
       "<style scoped>\n",
       "    .dataframe tbody tr th:only-of-type {\n",
       "        vertical-align: middle;\n",
       "    }\n",
       "\n",
       "    .dataframe tbody tr th {\n",
       "        vertical-align: top;\n",
       "    }\n",
       "\n",
       "    .dataframe thead th {\n",
       "        text-align: right;\n",
       "    }\n",
       "</style>\n",
       "<table border=\"1\" class=\"dataframe\">\n",
       "  <thead>\n",
       "    <tr style=\"text-align: right;\">\n",
       "      <th></th>\n",
       "      <th>index</th>\n",
       "      <th>OBJECTID</th>\n",
       "      <th>YEAR_</th>\n",
       "      <th>STATE</th>\n",
       "      <th>AGENCY</th>\n",
       "      <th>UNIT_ID</th>\n",
       "      <th>FIRE_NAME</th>\n",
       "      <th>INC_NUM</th>\n",
       "      <th>ALARM_DATE</th>\n",
       "      <th>CONT_DATE</th>\n",
       "      <th>...</th>\n",
       "      <th>GIS_ACRES</th>\n",
       "      <th>COMMENTS</th>\n",
       "      <th>COMPLEX_NA</th>\n",
       "      <th>COMPLEX_IN</th>\n",
       "      <th>IRWINID</th>\n",
       "      <th>FIRE_NUM</th>\n",
       "      <th>DECADES</th>\n",
       "      <th>SHAPE_Leng</th>\n",
       "      <th>SHAPE_Area</th>\n",
       "      <th>geometry</th>\n",
       "    </tr>\n",
       "  </thead>\n",
       "  <tbody>\n",
       "    <tr>\n",
       "      <th>0</th>\n",
       "      <td>19836</td>\n",
       "      <td>41429</td>\n",
       "      <td>2017</td>\n",
       "      <td>CA</td>\n",
       "      <td>CCO</td>\n",
       "      <td>VNC</td>\n",
       "      <td>BROOK</td>\n",
       "      <td>00042450</td>\n",
       "      <td>2017-05-23</td>\n",
       "      <td>2017-05-24</td>\n",
       "      <td>...</td>\n",
       "      <td>10.043819</td>\n",
       "      <td>per walked track</td>\n",
       "      <td>None</td>\n",
       "      <td>None</td>\n",
       "      <td>None</td>\n",
       "      <td>None</td>\n",
       "      <td>2010</td>\n",
       "      <td>1246.055781</td>\n",
       "      <td>59473.666651</td>\n",
       "      <td>POLYGON ((-13229812.974 4046876.486, -13229786...</td>\n",
       "    </tr>\n",
       "    <tr>\n",
       "      <th>1</th>\n",
       "      <td>19837</td>\n",
       "      <td>41430</td>\n",
       "      <td>2017</td>\n",
       "      <td>CA</td>\n",
       "      <td>CCO</td>\n",
       "      <td>VNC</td>\n",
       "      <td>PACIFIC</td>\n",
       "      <td>00075307</td>\n",
       "      <td>2017-09-09</td>\n",
       "      <td>2017-09-09</td>\n",
       "      <td>...</td>\n",
       "      <td>1.190109</td>\n",
       "      <td>Final Walked track.  Small spot to the north east</td>\n",
       "      <td>None</td>\n",
       "      <td>None</td>\n",
       "      <td>None</td>\n",
       "      <td>None</td>\n",
       "      <td>2010</td>\n",
       "      <td>561.418202</td>\n",
       "      <td>7081.369481</td>\n",
       "      <td>POLYGON ((-13286872.985 4074523.355, -13286895...</td>\n",
       "    </tr>\n",
       "  </tbody>\n",
       "</table>\n",
       "<p>2 rows × 23 columns</p>\n",
       "</div>"
      ],
      "text/plain": [
       "   index  OBJECTID YEAR_ STATE AGENCY UNIT_ID FIRE_NAME   INC_NUM  ALARM_DATE  \\\n",
       "0  19836     41429  2017    CA    CCO     VNC     BROOK  00042450  2017-05-23   \n",
       "1  19837     41430  2017    CA    CCO     VNC   PACIFIC  00075307  2017-09-09   \n",
       "\n",
       "    CONT_DATE  ...  GIS_ACRES  \\\n",
       "0  2017-05-24  ...  10.043819   \n",
       "1  2017-09-09  ...   1.190109   \n",
       "\n",
       "                                            COMMENTS  COMPLEX_NA  COMPLEX_IN  \\\n",
       "0                                   per walked track        None        None   \n",
       "1  Final Walked track.  Small spot to the north east        None        None   \n",
       "\n",
       "  IRWINID FIRE_NUM DECADES   SHAPE_Leng    SHAPE_Area  \\\n",
       "0    None     None    2010  1246.055781  59473.666651   \n",
       "1    None     None    2010   561.418202   7081.369481   \n",
       "\n",
       "                                            geometry  \n",
       "0  POLYGON ((-13229812.974 4046876.486, -13229786...  \n",
       "1  POLYGON ((-13286872.985 4074523.355, -13286895...  \n",
       "\n",
       "[2 rows x 23 columns]"
      ]
     },
     "execution_count": 16,
     "metadata": {},
     "output_type": "execute_result"
    }
   ],
   "source": [
    "# view the first two records of imported shape file data\n",
    "calfire.head(2)"
   ]
  },
  {
   "cell_type": "code",
   "execution_count": 17,
   "id": "616cf5ae-3fb8-44f3-964f-b44b6f6cc9b0",
   "metadata": {
    "tags": []
   },
   "outputs": [
    {
     "name": "stdout",
     "output_type": "stream",
     "text": [
      "calfire dataset shape: (608, 23)\n",
      "calfire dataset crs: epsg:3857\n",
      "calfire dataset geometry:\n",
      " 0    POLYGON ((-13229812.974 4046876.486, -13229786...\n",
      "1    POLYGON ((-13286872.985 4074523.355, -13286895...\n",
      "2    POLYGON ((-13244637.580 4056332.530, -13244620...\n",
      "3    POLYGON ((-13229521.754 4046254.111, -13229510...\n",
      "4    POLYGON ((-13229663.036 4046858.853, -13229667...\n",
      "Name: geometry, dtype: geometry\n"
     ]
    },
    {
     "data": {
      "text/plain": [
       "<AxesSubplot:>"
      ]
     },
     "execution_count": 17,
     "metadata": {},
     "output_type": "execute_result"
    },
    {
     "data": {
      "image/png": "[encoded data removed]",
      "text/plain": [
       "<Figure size 640x480 with 1 Axes>"
      ]
     },
     "metadata": {},
     "output_type": "display_data"
    }
   ],
   "source": [
    "print(f'calfire dataset shape: {calfire.shape}')\n",
    "print(f'calfire dataset crs: {calfire.crs}')\n",
    "print(f'calfire dataset geometry:\\n {calfire.geometry.head()}')\n",
    "\n",
    "# visualize calfire data\n",
    "calfire.plot(color = 'none')"
   ]
  },
  {
   "cell_type": "markdown",
   "id": "227c9e41-6a8a-420c-a0df-dfe8e3a7bf94",
   "metadata": {},
   "source": [
    "California fire perimeter dataset includes the list of all fires in California during 2017. \n",
    "For our analysis, we are interested only in Thomas fire that occured that year.\n",
    "\n",
    "Therefore, we need to filter the dataset to the rows with Thomas fire."
   ]
  },
  {
   "cell_type": "code",
   "execution_count": 18,
   "id": "b0870690-406d-4e83-aee0-06128aed37af",
   "metadata": {
    "tags": []
   },
   "outputs": [
    {
     "name": "stdout",
     "output_type": "stream",
     "text": [
      "Index(['index', 'objectid', 'year_', 'state', 'agency', 'unit_id', 'fire_name',\n",
      "       'inc_num', 'alarm_date', 'cont_date', 'cause', 'c_method', 'objective',\n",
      "       'gis_acres', 'comments', 'complex_na', 'complex_in', 'irwinid',\n",
      "       'fire_num', 'decades', 'shape_leng', 'shape_area', 'geometry'],\n",
      "      dtype='object')\n"
     ]
    },
    {
     "data": {
      "text/html": [
       "<div>\n",
       "<style scoped>\n",
       "    .dataframe tbody tr th:only-of-type {\n",
       "        vertical-align: middle;\n",
       "    }\n",
       "\n",
       "    .dataframe tbody tr th {\n",
       "        vertical-align: top;\n",
       "    }\n",
       "\n",
       "    .dataframe thead th {\n",
       "        text-align: right;\n",
       "    }\n",
       "</style>\n",
       "<table border=\"1\" class=\"dataframe\">\n",
       "  <thead>\n",
       "    <tr style=\"text-align: right;\">\n",
       "      <th></th>\n",
       "      <th>index</th>\n",
       "      <th>objectid</th>\n",
       "      <th>year_</th>\n",
       "      <th>state</th>\n",
       "      <th>agency</th>\n",
       "      <th>unit_id</th>\n",
       "      <th>fire_name</th>\n",
       "      <th>inc_num</th>\n",
       "      <th>alarm_date</th>\n",
       "      <th>cont_date</th>\n",
       "      <th>...</th>\n",
       "      <th>gis_acres</th>\n",
       "      <th>comments</th>\n",
       "      <th>complex_na</th>\n",
       "      <th>complex_in</th>\n",
       "      <th>irwinid</th>\n",
       "      <th>fire_num</th>\n",
       "      <th>decades</th>\n",
       "      <th>shape_leng</th>\n",
       "      <th>shape_area</th>\n",
       "      <th>geometry</th>\n",
       "    </tr>\n",
       "  </thead>\n",
       "  <tbody>\n",
       "    <tr>\n",
       "      <th>436</th>\n",
       "      <td>20274</td>\n",
       "      <td>41874</td>\n",
       "      <td>2017</td>\n",
       "      <td>CA</td>\n",
       "      <td>USF</td>\n",
       "      <td>VNC</td>\n",
       "      <td>THOMAS</td>\n",
       "      <td>00003583</td>\n",
       "      <td>2017-12-04</td>\n",
       "      <td>2018-01-12</td>\n",
       "      <td>...</td>\n",
       "      <td>281790.875</td>\n",
       "      <td>CONT_DATE based on Inciweb</td>\n",
       "      <td>None</td>\n",
       "      <td>None</td>\n",
       "      <td>None</td>\n",
       "      <td>None</td>\n",
       "      <td>2010</td>\n",
       "      <td>540531.887458</td>\n",
       "      <td>1.681106e+09</td>\n",
       "      <td>MULTIPOLYGON (((-13316089.016 4088553.040, -13...</td>\n",
       "    </tr>\n",
       "  </tbody>\n",
       "</table>\n",
       "<p>1 rows × 23 columns</p>\n",
       "</div>"
      ],
      "text/plain": [
       "     index  objectid year_ state agency unit_id fire_name   inc_num  \\\n",
       "436  20274     41874  2017    CA    USF     VNC    THOMAS  00003583   \n",
       "\n",
       "     alarm_date   cont_date  ...   gis_acres                    comments  \\\n",
       "436  2017-12-04  2018-01-12  ...  281790.875  CONT_DATE based on Inciweb   \n",
       "\n",
       "     complex_na  complex_in irwinid fire_num decades     shape_leng  \\\n",
       "436        None        None    None     None    2010  540531.887458   \n",
       "\n",
       "       shape_area                                           geometry  \n",
       "436  1.681106e+09  MULTIPOLYGON (((-13316089.016 4088553.040, -13...  \n",
       "\n",
       "[1 rows x 23 columns]"
      ]
     },
     "execution_count": 18,
     "metadata": {},
     "output_type": "execute_result"
    }
   ],
   "source": [
    "# update the column names case to snake_case\n",
    "calfire.columns = calfire.columns.str.lower().str.replace(' ','_')\n",
    "print(calfire.columns)\n",
    "\n",
    "# find the value that corresponds to Thomas fire\n",
    "calfire[calfire.fire_name.str.contains('Thomas', case=False, na=False)]"
   ]
  },
  {
   "cell_type": "code",
   "execution_count": 21,
   "id": "62f030c2-1699-4845-be8b-9417c18102d1",
   "metadata": {},
   "outputs": [
    {
     "data": {
      "text/plain": [
       "array(['THOMAS'], dtype=object)"
      ]
     },
     "execution_count": 21,
     "metadata": {},
     "output_type": "execute_result"
    }
   ],
   "source": [
    "calfire[calfire.fire_name.str.contains('Thomas', case=False, na=False)]['fire_name'].unique()"
   ]
  },
  {
   "cell_type": "markdown",
   "id": "2ec12b8d-c961-4c3f-ac8c-6b415bc59e16",
   "metadata": {},
   "source": [
    "We only have one record with fire_name = THOMAS. This is the record that we want to use for our analysis. "
   ]
  },
  {
   "cell_type": "code",
   "execution_count": null,
   "id": "20c15a14-4488-4dc2-8afe-c323ab39bb5e",
   "metadata": {
    "tags": []
   },
   "outputs": [],
   "source": [
    "# create a new dataframe with Thomas fire details\n",
    "tf = calfire[calfire.fire_name == 'THOMAS']"
   ]
  },
  {
   "cell_type": "code",
   "execution_count": null,
   "id": "0ca44794-3b67-4d22-b097-fb2d5fd63032",
   "metadata": {
    "tags": []
   },
   "outputs": [],
   "source": [
    "# explore data of the netCDF file\n",
    "\n",
    "print(f'lsat CRS: {lsat.rio.crs}')\n",
    "\n",
    "# print shape and data type\n",
    "print('shape: ', lsat.rio.shape)\n",
    "print('data type: ', type(lsat), '\\n')\n",
    "# print(lsat)\n",
    "\n",
    "# make a simple map to visualize lsat dataset\n",
    "lsat['red'].plot()"
   ]
  },
  {
   "cell_type": "markdown",
   "id": "5b0597b7-6177-4d65-b513-516fcb3d5287",
   "metadata": {},
   "source": [
    "⚠️ Notice the following two important things:\n",
    "\n",
    "1. The Coordinate Reference Systems (CRS) of the two datasets are different. Since we want to overlay the Thomas Fire perimeter on the Santa Barbara County land cover, we need to ensure that the CRSs of the two datasets are the same. To achieve this, we will reproject the CRS of the tf dataset into the CRS of the lsat dataset.\n",
    "\n",
    "2. The lsat dataset includes an additional dimension, the band, which makes it a 3-dimensional object. We are going to convert it into a 2-dimensional dataset by dropping the band dimension."
   ]
  },
  {
   "cell_type": "code",
   "execution_count": null,
   "id": "c86ef688-5da7-4426-9326-f5be5f1dde10",
   "metadata": {
    "tags": []
   },
   "outputs": [],
   "source": [
    "# drop an extra dimension \"band\" from lsat dataset\n",
    "lsat = lsat.squeeze().drop('band')\n",
    "\n",
    "# check that band dimension has been dropped\n",
    "print(f'After squeeze:\\ndimensions {lsat.dims}\\ncoords: {lsat.coords}')\n",
    "\n",
    "# update CRS of the shape file to lsat CRS\n",
    "tf = tf.to_crs(crs = lsat.rio.crs)\n",
    "\n",
    "# check that CRS of the two datasets match\n",
    "print(f'CRS of the lsat and tf datasets match: {tf.crs == lsat.rio.crs}')"
   ]
  },
  {
   "cell_type": "markdown",
   "id": "81dc6c83-e778-4afe-9ae6-34500016bef2",
   "metadata": {},
   "source": [
    "## Create a map <a id=\"section-9-map\"></a>\n",
    "\n",
    "In the final step we will create a map showing the shortwave infrared/nir/ ed false color image together with the Thomas fire perimeter. "
   ]
  },
  {
   "cell_type": "code",
   "execution_count": null,
   "id": "809f4bfb-d228-40ed-8623-b444c3ba6f61",
   "metadata": {
    "tags": []
   },
   "outputs": [],
   "source": [
    "fig, ax = plt.subplots()\n",
    "\n",
    "# remove axis\n",
    "ax.axis('off')\n",
    "\n",
    "# plot Thomas fire perimeter\n",
    "tf.plot(ax=ax, color='none', edgecolor = '#483C32')\n",
    "tf_patch = mpatches.Patch(facecolor = 'none', \n",
    "                          edgecolor='#483C32', \n",
    "                          label='Thomas Fire Perimeter (2017)')\n",
    "\n",
    "# plot raster image of Santa Barbara area\n",
    "lsat[['swir22', 'nir08', 'red']].to_array().plot.imshow(ax=ax, robust = True)\n",
    "\n",
    "# add legend\n",
    "ax.legend(handles=[tf_patch], frameon=True, loc='upper right')\n",
    "ax.set_title('Thomas Fire (Santa Barbara, 2017)')\n",
    "\n",
    "# display map\n",
    "plt.show()"
   ]
  }
 ],
 "metadata": {
  "kernelspec": {
   "display_name": "Anaconda 3 (Base)",
   "language": "python",
   "name": "base"
  },
  "language_info": {
   "codemirror_mode": {
    "name": "ipython",
    "version": 3
   },
   "file_extension": ".py",
   "mimetype": "text/x-python",
   "name": "python",
   "nbconvert_exporter": "python",
   "pygments_lexer": "ipython3",
   "version": "3.9.13"
  }
 },
 "nbformat": 4,
 "nbformat_minor": 5
}
